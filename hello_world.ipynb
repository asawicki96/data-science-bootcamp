{
  "nbformat": 4,
  "nbformat_minor": 0,
  "metadata": {
    "colab": {
      "provenance": [],
      "authorship_tag": "ABX9TyNnDDH3TvMKfh29KFlAANB1",
      "include_colab_link": true
    },
    "kernelspec": {
      "name": "python3",
      "display_name": "Python 3"
    },
    "language_info": {
      "name": "python"
    }
  },
  "cells": [
    {
      "cell_type": "markdown",
      "metadata": {
        "id": "view-in-github",
        "colab_type": "text"
      },
      "source": [
        "<a href=\"https://colab.research.google.com/github/asawicki96/data-science-bootcamp/blob/master/hello_world.ipynb\" target=\"_parent\"><img src=\"https://colab.research.google.com/assets/colab-badge.svg\" alt=\"Open In Colab\"/></a>"
      ]
    },
    {
      "cell_type": "code",
      "execution_count": 1,
      "metadata": {
        "colab": {
          "base_uri": "https://localhost:8080/"
        },
        "id": "Abw8J5Spj6OJ",
        "outputId": "e34f2453-7f4d-4a62-a763-6876b2b60ae8"
      },
      "outputs": [
        {
          "output_type": "stream",
          "name": "stdout",
          "text": [
            "Hello colab!\n"
          ]
        }
      ],
      "source": [
        "print(\"Hello colab!\")"
      ]
    },
    {
      "cell_type": "code",
      "source": [
        "print(\"Joł\")"
      ],
      "metadata": {
        "id": "IiutDRjlkmny"
      },
      "execution_count": null,
      "outputs": []
    },
    {
      "cell_type": "code",
      "source": [],
      "metadata": {
        "id": "DJY3R-1Tljjo"
      },
      "execution_count": null,
      "outputs": []
    }
  ]
}